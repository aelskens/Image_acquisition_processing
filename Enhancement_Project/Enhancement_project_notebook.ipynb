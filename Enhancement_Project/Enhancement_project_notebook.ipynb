{
 "cells": [
  {
   "cell_type": "markdown",
   "metadata": {},
   "source": [
    "# Adobe Lightroom-like implementation for image enhancement\n",
    "\n",
    "In this project, the user will be able to use several parameters to enhance his image in a simulated **Adobe Lightroom** environment.\n",
    "\n",
    "Every image will be transformed in the RGB space, this is used to treat similarly BNW images or already existing RGB images.\n",
    "The different possible changes are the following: luminance, saturation and color regulation, noise reduction, equalisaton and autoleveling. "
   ]
  },
  {
   "cell_type": "code",
   "execution_count": 30,
   "metadata": {},
   "outputs": [],
   "source": [
    "%matplotlib widget\n",
    "from ipywidgets import *\n",
    "from skimage.io import imread,imsave,imshow\n",
    "import numpy as np\n",
    "from matplotlib import pyplot as plt\n",
    "from skimage.color import rgb2hsv, hsv2rgb\n",
    "from skimage.filters.rank import median\n",
    "from skimage.morphology import disk\n",
    "\n",
    "#Take for argument: an image \n",
    "#Transform the image to RGB\n",
    "def to_rgb(im):\n",
    "    if (np.array(im).ndim == 2):\n",
    "        im_rgb = np.stack((im, im, im), axis=2).astype('uint8')\n",
    "    else:\n",
    "        im_rgb = im\n",
    "    return im_rgb\n",
    "\n",
    "#Take for argument: an image\n",
    "#Generate its cumulative histogram\n",
    "def cumul_hist(im):\n",
    "    cumul_hist = np.zeros((256,))\n",
    "    c = 0\n",
    "    for v in range(256):\n",
    "        c += (im==v).sum()\n",
    "        cumul_hist[v] += c\n",
    "    cumul_hist /= cumul_hist.max()\n",
    "    return cumul_hist\n",
    "\n",
    "#Take for arguments: an image, a channel c and a factor f\n",
    "#Compute a LUT for a specific channel c which is later use to increase or decrease\n",
    "#all the values of the image on this channel by a factor f\n",
    "#This is an irreversible change, we lose information when we set values to 0 or 255\n",
    "def color_adjust_channel_rgb(im, c, f):\n",
    "    LUT = np.arange(256)   \n",
    "    LUT += f\n",
    "    for i in range(256):\n",
    "        if LUT[i] < 0:\n",
    "            LUT[i] = 0\n",
    "        if LUT[i] > 255:\n",
    "            LUT[i] = 255\n",
    "    return LUT[im[:, :, c]]\n",
    "\n",
    "#Take for argument: an image\n",
    "#Apply a LUT to equalise the image\n",
    "def equalise_rgb(im):\n",
    "    for i in range(3):\n",
    "        LUT = (255*cumul_hist(im[:,:,i])).astype('uint8')\n",
    "        im[:,:,i] = LUT[im[:,:,i]]\n",
    "    return im\n",
    "\n",
    "#Take for arguments: an image and the wanted level\n",
    "#Apply an auto-leveling LUT, the low and high cut percentage are symetrical and are define by level\n",
    "def auto_level(im, level):\n",
    "    h = cumul_hist(im)\n",
    "    low_perc = level/100\n",
    "    high_perc = 1-low_perc\n",
    "    for v in range(256):\n",
    "        if h[v] > low_perc: break\n",
    "    Tmin = v-1\n",
    "    for v in range(256):\n",
    "        if h[255-v] < high_perc: break\n",
    "    Tmax = (255-v)+1\n",
    "    LUT = np.arange(256)\n",
    "    LUT[:Tmin] = 0\n",
    "    LUT[Tmax:] = 255\n",
    "    LUT[Tmin:Tmax] = (255/(Tmax-Tmin))*(LUT[Tmin:Tmax]-Tmin)\n",
    "    for i in range(3):\n",
    "        im[:,:,i] = LUT[im[:,:,i]]\n",
    "    return im \n",
    "\n",
    "#Take for arguments: an image and a factor f\n",
    "#Increase or decrease value of a RGB image by a factor f on every channel\n",
    "#This affects the global luminance of the image\n",
    "#This is irreversible as it uses the color_adjust_channel_rgb(...) function\n",
    "def adjust_luminance_rgb(im, f):\n",
    "    for i in range(3):\n",
    "        im[:,:,i] = color_adjust_channel_rgb(im, i, f)\n",
    "    return im\n",
    "\n",
    "#Takes for arguments: an image and a size for the disk\n",
    "#Apply a median filter on every channel\n",
    "#Used to reduce the noise\n",
    "def median_rgb(im, disk_size):\n",
    "    for i in range(3):\n",
    "        im[:,:,i] = median(im[:,:,i], disk(disk_size))\n",
    "    return im\n",
    "\n",
    "#Takes for arguments: a HSV image, two integers i and j, a channel (axis) and a factor f\n",
    "#Increase or decrease a value of a specific channel of the HSV image by a factor\n",
    "#This is an irreversible change, we lose information when we set values to 0 or 1.\n",
    "def apply(im_hsv, i, j, axis, f):\n",
    "    if f == 0:\n",
    "        return im_hsv\n",
    "    elif im_hsv[i, j, axis] + f < 0:\n",
    "        im_hsv[i, j, axis] = 0\n",
    "    elif im_hsv[i, j, axis] + f > 1.:\n",
    "        im_hsv[i, j, axis] = 1.\n",
    "    else:\n",
    "        im_hsv[i, j, axis] += f\n",
    "    return im_hsv\n",
    "\n",
    "#Take for arguments: an image and various factors\n",
    "#Use to change the [Hue, Saturation, Value] of the reds, greens and blues\n",
    "#As H ranges from 0 to 1 after a rgb2hsv(im) and in its definition every colors correspond to a value between\n",
    "#0 and 360, 1 degree = 1/360\n",
    "#Per definition: reds (of RGB) range from 0 to 60 and from 300 to 360, normalised it corresponds to [0;1/6]u[5/6;1]\n",
    "#greens (of RGB) range from 60 to 180, normalised it corresponds to [1/6;1/2]\n",
    "#blues (of RGB) range from 180 to 300, normalised it corresponds to [1/2;5/6]\n",
    "#The same approach has been used for S and V\n",
    "#s_f (saturation) and l_f (luminance) are global factors that are applied for every colors\n",
    "#This is irreversible as it uses the apply(...) function\n",
    "def hsv_color_based_adjust(im, h_r_f, h_g_f, h_b_f, s_r_f, s_g_f, s_b_f, v_r_f, v_g_f, v_b_f, s_f, l_f):\n",
    "    im_hsv = rgb2hsv(im)\n",
    "    for i in range(im_hsv.shape[0]):\n",
    "        for j in range(im_hsv.shape[1]):\n",
    "            if 0.<=im_hsv[i, j, 0]<=1/6 or 5/6<=im_hsv[i, j, 0]<=1.:\n",
    "                im_hsv = apply(im_hsv, i, j, 0, h_r_f)\n",
    "                im_hsv = apply(im_hsv, i, j, 1, s_r_f)\n",
    "                im_hsv = apply(im_hsv, i, j, 2, v_r_f)\n",
    "            elif 1/6<=im_hsv[i, j, 0]<=1/2:\n",
    "                im_hsv = apply(im_hsv, i, j, 0, h_g_f)\n",
    "                im_hsv = apply(im_hsv, i, j, 1, s_g_f)\n",
    "                im_hsv = apply(im_hsv, i, j, 2, v_g_f)\n",
    "            elif 1/2<=im_hsv[i, j, 0]<=5/6:\n",
    "                im_hsv = apply(im_hsv, i, j, 0, h_b_f)\n",
    "                im_hsv = apply(im_hsv, i, j, 1, s_b_f)\n",
    "                im_hsv = apply(im_hsv, i, j, 2, v_b_f)\n",
    "            im_hsv = apply(im_hsv, i, j, 1, s_f)\n",
    "            im_hsv = apply(im_hsv, i, j, 2, l_f)\n",
    "    return (hsv2rgb(im_hsv)*255).astype('uint8')    \n",
    "\n",
    "#Take for arguments: a RGB image and all the adaptable parameters\n",
    "#Apply all the parameters to the image\n",
    "#As multiple functions defined here above are irreversible, this function create a copy of the image\n",
    "#to apply all the parameters so the original image is not corrupted\n",
    "def lightroom_rgb(im, lumi_rgb, lumi_hsv, auto, level, equal, saturation, R_color, G_color, B_color, Hue_R, \n",
    "                  Hue_G, Hue_B, Saturation_R, Saturation_G, Saturation_B, Value_R, Value_G, Value_B, \n",
    "                  median_size):\n",
    "    im_out = im.copy()\n",
    "    if lumi_rgb != 0:\n",
    "        im_out = adjust_luminance_rgb(im_out, lumi_rgb)\n",
    "    if auto and level != 0:\n",
    "        im_out = auto_level(im_out, level)\n",
    "    if equal:\n",
    "        im_out = equalise_rgb(im_out)\n",
    "    if R_color != 0:\n",
    "        im_out[:,:,0] = color_adjust_channel_rgb(im_out, 0, R_color)\n",
    "    if G_color != 0:\n",
    "        im_out[:,:,1] = color_adjust_channel_rgb(im_out, 1, G_color)\n",
    "    if B_color != 0:\n",
    "        im_out[:,:,2] = color_adjust_channel_rgb(im_out, 2, B_color)\n",
    "    if Hue_R!=0 or Hue_G!=0 or Hue_B!=0 or Saturation_R!=0 or Saturation_G!=0 or Saturation_B!=0 or Value_R!=0 or Value_G!=0 or Value_B!=0 or lumi_hsv!=0 or saturation!=0:\n",
    "        im_out = hsv_color_based_adjust(im=im_out, h_r_f=Hue_R, h_g_f=Hue_G, h_b_f=Hue_B, s_r_f=Saturation_R, \n",
    "                                        s_g_f=Saturation_G, s_b_f=Saturation_B, v_r_f=Value_R, v_g_f=Value_G, \n",
    "                                        v_b_f=Value_B, s_f=saturation, l_f=lumi_hsv)\n",
    "    if median_size != 0:\n",
    "        im_out = median_rgb(im_out, median_size)\n",
    "    return im_out\n",
    "\n",
    "#This is a class which has one attribute and one method\n",
    "#The attribute is an array of the modified image\n",
    "#The method is used to set the array with the latest modifications in order to save it\n",
    "class Im_modif:\n",
    "    def __init__(self, array):\n",
    "        self.array = array\n",
    "    def setArray(self, im):\n",
    "        self.array = im"
   ]
  },
  {
   "cell_type": "markdown",
   "metadata": {},
   "source": [
    "Concerning the coding part, use of LUT was the primary goal but for the HSV manipulations as the H, S and V values are ranging from 0 to 1 and as I did not know the exact number of levels between these two boundaries a choice based on the definition of HSV was made.\n",
    "\n",
    "<img src=\"./HSVexplain.png\" width=\"250px\" />\n",
    "\n",
    "This image was taken from Wikipedia. The H values range by definition from $0^{\\circ}$ to $360^{\\circ}$. Therefore instead of using a LUT, I have implemented a double loop which goes through every pixel in the image to set the wanted values by factors proportional to $1/360$ (the determined distance between to color in the HSV space). The same step distance has been used for the S and V channel. \n",
    "\n",
    "This has the drawback to be slower than the optimised LUT method."
   ]
  },
  {
   "cell_type": "markdown",
   "metadata": {},
   "source": [
    "To use this code, first enter an image. You should know that although this code will process BNW images, it has  a better and more interesting use for color images."
   ]
  },
  {
   "cell_type": "code",
   "execution_count": 31,
   "metadata": {},
   "outputs": [],
   "source": [
    "im = imread('etretat.jpg')"
   ]
  },
  {
   "cell_type": "code",
   "execution_count": 15,
   "metadata": {},
   "outputs": [],
   "source": [
    "im = imread('astronaut_noisy.jpg')"
   ]
  },
  {
   "cell_type": "code",
   "execution_count": 16,
   "metadata": {},
   "outputs": [],
   "source": [
    "im = imread('airplane.jpg')"
   ]
  },
  {
   "cell_type": "markdown",
   "metadata": {},
   "source": [
    "The second step is the widget set up and the update(...) function definition. As some changes can be irreversible, the lightroom_rgb(...) function makes a copy of the original image and apply every changes to the copied version so it does not corrupt the original image.\n",
    "\n",
    "**Remark** concerning the overall implementation, any HSV transformations take time (roughly 15 to 20 seconds) to be applied on and this is true for each update while at least one of those HSV parameters are different than 0. As previously said LUT use could be an improvement of the already existing method or the use of the previous transormations so it does not to be computed anymore."
   ]
  },
  {
   "cell_type": "code",
   "execution_count": 34,
   "metadata": {},
   "outputs": [
    {
     "data": {
      "application/vnd.jupyter.widget-view+json": {
       "model_id": "eaaf228bbef247d5aef317975e501348",
       "version_major": 2,
       "version_minor": 0
      },
      "text/plain": [
       "Canvas(toolbar=Toolbar(toolitems=[('Home', 'Reset original view', 'home', 'home'), ('Back', 'Back to previous …"
      ]
     },
     "metadata": {},
     "output_type": "display_data"
    },
    {
     "data": {
      "application/vnd.jupyter.widget-view+json": {
       "model_id": "f2acd5a47f5e48f89ccbb1b52f5496c9",
       "version_major": 2,
       "version_minor": 0
      },
      "text/plain": [
       "HBox(children=(VBox(children=(Label(value='General'), Checkbox(value=False, description='Auto'), IntSlider(val…"
      ]
     },
     "metadata": {},
     "output_type": "display_data"
    },
    {
     "data": {
      "application/vnd.jupyter.widget-view+json": {
       "model_id": "90aa4615dc3748728dd465dbb27973ee",
       "version_major": 2,
       "version_minor": 0
      },
      "text/plain": [
       "Output()"
      ]
     },
     "metadata": {},
     "output_type": "display_data"
    }
   ],
   "source": [
    "#Initialise the array in which will be stored the modifications to the image\n",
    "im_modif = Im_modif(np.zeros(im.shape))\n",
    "\n",
    "#Set up plot\n",
    "fig, ax = plt.subplots(figsize=(6, 4))\n",
    "ax.imshow(im)\n",
    "ax.axis('off')\n",
    "\n",
    "#Set up the widgets\n",
    "lumi_rgb=widgets.IntSlider(value=0, min=-125, max=125, step=5, description='Lumi RGB', continuous_update=False)\n",
    "lumi_hsv=widgets.FloatSlider(value=0, min=-1., max=1., step=5/360, description='Lumi HSV', continuous_update=False) \n",
    "auto=widgets.Checkbox(value=False, description='Auto')\n",
    "level=widgets.IntSlider(value=0, min=0, max=100, step=1, description='Level (%)', continuous_update=False)\n",
    "equal=widgets.Checkbox(value=False, description='Equal')\n",
    "saturation=widgets.FloatSlider(value=0, min=-1., max=1., step=5/360, description='Saturation', continuous_update=False) \n",
    "R_color=widgets.IntSlider(value=0, min=-255, max=255, step=5, description='R color', continuous_update=False)\n",
    "G_color=widgets.IntSlider(value=0, min=-255, max=255, step=5, description='G color', continuous_update=False) \n",
    "B_color=widgets.IntSlider(value=0, min=-255, max=255, step=5, description='B color', continuous_update=False) \n",
    "Hue_R=widgets.FloatSlider(value=0, min=-1., max=1., step=5/360, description='Hue R', continuous_update=False) \n",
    "Hue_G=widgets.FloatSlider(value=0, min=-1., max=1., step=5/360, description='Hue G', continuous_update=False) \n",
    "Hue_B=widgets.FloatSlider(value=0, min=-1., max=1., step=5/360, description='Hue B', continuous_update=False) \n",
    "Saturation_R=widgets.FloatSlider(value=0, min=-1., max=1., step=5/360, description='Saturation R', continuous_update=False)\n",
    "Saturation_G=widgets.FloatSlider(value=0, min=-1., max=1., step=5/360, description='Saturation G', continuous_update=False) \n",
    "Saturation_B=widgets.FloatSlider(value=0, min=-1., max=1., step=5/360, description='Saturation B', continuous_update=False) \n",
    "Value_R=widgets.FloatSlider(value=0, min=-1., max=1., step=5/360, description='Value R', continuous_update=False)\n",
    "Value_G=widgets.FloatSlider(value=0, min=-1., max=1., step=5/360, description='Value G', continuous_update=False) \n",
    "Value_B=widgets.FloatSlider(value=0, min=-1., max=1., step=5/360, description='Value B', continuous_update=False) \n",
    "median_size=widgets.IntSlider(value=0, min=0, max=20, step=1, description='Median', continuous_update=False)\n",
    "\n",
    "#Set up the layout of the widgets\n",
    "def make_boxes():\n",
    "    vbox1 = widgets.VBox([widgets.Label('General'), auto, level, equal, median_size, saturation])\n",
    "    vbox2 = widgets.VBox([widgets.Label('RGB'), lumi_rgb, R_color, G_color, B_color])\n",
    "    vbox3 = widgets.VBox([widgets.Label('HSV'), lumi_hsv, Hue_R, Hue_G, Hue_B, Saturation_R, Saturation_G, Saturation_B, \n",
    "                          Value_R, Value_G, Value_B])\n",
    "    return vbox1, vbox2, vbox3\n",
    " \n",
    "vbox1, vbox2, vbox3 = make_boxes()\n",
    "ui = widgets.HBox([vbox1, vbox2, vbox3])\n",
    "\n",
    "#Take all the adaptable parameters as arguments and update the plotted image accordingly\n",
    "def update(lumi_rgb, lumi_hsv, auto, level, equal, saturation, R_color, G_color, B_color, Hue_R, Hue_G, Hue_B, Saturation_R, Saturation_G, \n",
    "           Saturation_B, Value_R, Value_G, Value_B, median_size):\n",
    "    ax.imshow(lightroom_rgb(to_rgb(im), lumi_rgb, lumi_hsv, auto, level, equal, saturation, R_color, G_color, B_color, Hue_R, Hue_G, Hue_B, \n",
    "                            Saturation_R, Saturation_G, Saturation_B, Value_R, Value_G, Value_B, median_size))\n",
    "    im_modif.setArray(lightroom_rgb(to_rgb(im), lumi_rgb, lumi_hsv, auto, level, equal, saturation, R_color, G_color, B_color, Hue_R, Hue_G, Hue_B, \n",
    "                                    Saturation_R, Saturation_G, Saturation_B, Value_R, Value_G, Value_B, median_size))\n",
    "\n",
    "out = widgets.interactive_output(update, {'lumi_rgb':lumi_rgb, 'lumi_hsv':lumi_hsv, 'auto':auto, 'level':level,'equal':equal, 'saturation':saturation, \n",
    "                                         'R_color':R_color, 'G_color':G_color, 'B_color':B_color, 'Hue_R':Hue_R, 'Hue_G':Hue_G, \n",
    "                                         'Hue_B':Hue_B, 'Saturation_R':Saturation_R, 'Saturation_G':Saturation_G, \n",
    "                                         'Saturation_B':Saturation_B, 'Value_R':Value_R, 'Value_G':Value_G, 'Value_B':Value_B, 'median_size':median_size})\n",
    "display(ui, out)"
   ]
  },
  {
   "cell_type": "markdown",
   "metadata": {},
   "source": [
    "The changes made to the image can be saved and displayed at anytime during the process of enhancement. This is done using the \"im_modif\" object previously (in the update(...) function) updated."
   ]
  },
  {
   "cell_type": "code",
   "execution_count": 19,
   "metadata": {},
   "outputs": [],
   "source": [
    "im_to_save = im_modif.array\n",
    "imsave('name.jpg', im_to_save)"
   ]
  },
  {
   "cell_type": "markdown",
   "metadata": {},
   "source": [
    "Finally, every function can be used independently. Here is an example of the lightroom_rgb(...) function with fixed parameters for the \"etretat.jpg\" image:"
   ]
  },
  {
   "cell_type": "code",
   "execution_count": 35,
   "metadata": {},
   "outputs": [
    {
     "data": {
      "application/vnd.jupyter.widget-view+json": {
       "model_id": "ce38611058014d77ae0cbb05bf4b61db",
       "version_major": 2,
       "version_minor": 0
      },
      "text/plain": [
       "Canvas(toolbar=Toolbar(toolitems=[('Home', 'Reset original view', 'home', 'home'), ('Back', 'Back to previous …"
      ]
     },
     "metadata": {},
     "output_type": "display_data"
    }
   ],
   "source": [
    "im = imread('etretat.jpg')\n",
    "im_modif = lightroom_rgb(to_rgb(im), -10, 0, False, 0, True, 5/360, 0, 0, -5, 10/360, 0, -10/360, 10/360, 10/360, 0, -5/360, 0, 0, 0)\n",
    "\n",
    "plt.figure()\n",
    "plt.imshow(im_modif)\n",
    "plt.show()"
   ]
  },
  {
   "cell_type": "code",
   "execution_count": null,
   "metadata": {},
   "outputs": [],
   "source": []
  }
 ],
 "metadata": {
  "kernelspec": {
   "display_name": "Python 3",
   "language": "python",
   "name": "python3"
  },
  "language_info": {
   "codemirror_mode": {
    "name": "ipython",
    "version": 3
   },
   "file_extension": ".py",
   "mimetype": "text/x-python",
   "name": "python",
   "nbconvert_exporter": "python",
   "pygments_lexer": "ipython3",
   "version": "3.8.3"
  }
 },
 "nbformat": 4,
 "nbformat_minor": 4
}
