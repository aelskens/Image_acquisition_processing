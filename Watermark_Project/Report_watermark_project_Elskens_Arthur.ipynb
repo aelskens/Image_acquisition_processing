{
 "cells": [
  {
   "cell_type": "markdown",
   "metadata": {},
   "source": [
    "Elskens Arthur 000440738 \n",
    "\n",
    "November 2020"
   ]
  },
  {
   "cell_type": "markdown",
   "metadata": {},
   "source": [
    "**INFO-H500 report for the Watermark project**\n",
    "--------------------------------------------------------"
   ]
  },
  {
   "cell_type": "markdown",
   "metadata": {},
   "source": [
    "The core code which is being used is based on the RGBA model for which A stands for Alpha and represents the transparency of a pixel in front of the white color, a value of 0 is white while a value of 255 is associated with the true color and opacity of the given pixel.\n",
    "In order to use this model, the “**to_rgba(...)**” function has been implemented to convert any black and white and RGB images in RGBA.\n",
    "\n",
    "The main function “**transform_image(...)**” rewrites data from the image contained in its numpy array representation at a given position, more precisely it adapts the transparency term. This adaptation takes place only if the compared pixel of the watermark image has a value strictly bigger than 0.\n",
    "The “**apply_watermark(...)**” function, as its name indicates, applies the given watermark to the image with an adjustable parameter representing the wanted writings’ transparency. The “**remove_watermark(...)**” function, removes the applied watermark at the same location. Both of these functions allow to save the resulting image."
   ]
  },
  {
   "cell_type": "markdown",
   "metadata": {},
   "source": [
    "<u> Additional functions: </u>\n",
    "\n",
    "1. **convert_to_coordinates(...)**: This function returns y and x coordinates inside a tuple. As the position of the watermark can be given either with a list or tuple of coordinates (y, x) or with one of the 10 predetermined position with a specific string. The combination of two letters for each axis will do the trick:\n",
    "\n",
    " a) for the x axis: “l” for left, “r” for right and “m” for middle\n",
    "\n",
    " b) for the y axis: “a” for ascendant, “m” for middle and “d” for descendent\n",
    "\n",
    "\n",
    "2. **resize_ watermark(...)**: This function transform the size (in pixels) of the watermark based on a ratio of the image on which the watermark will be applied.\n",
    "\n",
    "3. **create_watermark(...)**: This function allows the user to create his own watermark with the text given in argument. The resulting watermark is composed of a black background with white writings on it, it can be saved if desired.\n",
    "\n",
    "4. **size_of_text(...)**: This function is of use when creating the watermark, it evaluates the size of the given text and returns it. With this information the create_watermark(...) function creates a black background which fits well to the wanted text.\n",
    "\n",
    "For the 3 last functions, the PIL library has been implemented and used."
   ]
  },
  {
   "cell_type": "markdown",
   "metadata": {},
   "source": [
    "To sum up, this code can apply and remove a given watermark at a given position. The watermark being an imported image or a freshly created one. The watermark is transparent which allows the user to see the details behind. Unfortunately, an algorithm of luminescence was not implemented which means that an applied watermark on a really bright area is nearly invisible.\n",
    "\n",
    "Another way to obtain a similar result would have been to decrease (darker) or increase (lighter) of a determined amount the values of the original image’s pixels where the watermark is applied. This code is commented at the end of the notebook Watermark_project_notebook.\n",
    "  "
   ]
  },
  {
   "cell_type": "code",
   "execution_count": null,
   "metadata": {},
   "outputs": [],
   "source": []
  }
 ],
 "metadata": {
  "kernelspec": {
   "display_name": "Python 3",
   "language": "python",
   "name": "python3"
  },
  "language_info": {
   "codemirror_mode": {
    "name": "ipython",
    "version": 3
   },
   "file_extension": ".py",
   "mimetype": "text/x-python",
   "name": "python",
   "nbconvert_exporter": "python",
   "pygments_lexer": "ipython3",
   "version": "3.8.3"
  }
 },
 "nbformat": 4,
 "nbformat_minor": 4
}
